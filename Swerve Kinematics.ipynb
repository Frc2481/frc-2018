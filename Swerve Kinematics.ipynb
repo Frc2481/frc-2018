{
 "cells": [
  {
   "cell_type": "markdown",
   "metadata": {},
   "source": [
    "# Swerve Drive Kinematics"
   ]
  },
  {
   "cell_type": "raw",
   "metadata": {},
   "source": [
    "V = Translation\n",
    "ω = Rotation\n",
    "\n",
    "A = Vx – ωL/2\n",
    "B = Vx + ωL/2\n",
    "C = Vy – ωW/2 \n",
    "D = Vy + ωW/2\n",
    "\n",
    "Wheel FR\n",
    "V1x = Vx + (ωr)x = B\n",
    "V1y = Vy + (ωr)y = C\n",
    "speed = sqrt(B2 +C2 )\n",
    "angle = atan2(B,C)*180/pi\n",
    "\n",
    "Wheel FL\n",
    "V2x = Vx + (ωr)x = B\n",
    "V2y = Vy + (ωr)y = D\n",
    "speed = sqrt(B2 +D2 )\n",
    "angle = atan2(B,D)*180/pi\n",
    "\n",
    "Wheel BL\n",
    "V3x = Vx + (ωr)x = A\n",
    "V3y = Vy + (ωr)y = D\n",
    "speed = sqrt(A2 +D2 )\n",
    "angle = atan2(A,D)*180/pi\n",
    "\n",
    "Wheel BR\n",
    "V4x = Vx + (ωr)x = A\n",
    "V4y = Vy + (ωr)y = C\n",
    "speed = sqrt(A2 +C2 )\n",
    "angle = atan2(A,C)*180/pi"
   ]
  },
  {
   "cell_type": "markdown",
   "metadata": {},
   "source": [
    "## Matches Ether's White Paper on CD\n",
    "\n",
    "https://www.chiefdelphi.com/media/papers/download/3027\n",
    "\n",
    "Ether's Swerve White Papers <br />\n",
    "https://www.chiefdelphi.com/media/papers/2426"
   ]
  },
  {
   "cell_type": "code",
   "execution_count": 67,
   "metadata": {
    "collapsed": false
   },
   "outputs": [
    {
     "name": "stdout",
     "output_type": "stream",
     "text": [
      "Input:   -0.190397261054 0.747106751413 -0.941540789098\n",
      "a:  4.51730668444 b:  -4.89810120655 c:  7.80866266965 d: -6.31444916682\n",
      "a:  4.51730668444 b:  -4.89810120655 c:  7.80866266965 d: -6.31444916682\n",
      "Output:  -0.190397261054 0.747106751412 -0.941540789098\n"
     ]
    }
   ],
   "source": [
    "# Matches White Papers.\n",
    "\n",
    "import math\n",
    "import random\n",
    "L = 10\n",
    "W = 15\n",
    "ORIGIN_X = 0\n",
    "ORIGIN_Y = 0\n",
    "\n",
    "FWD = random.random() * 2 - 1\n",
    "STR = random.random() * 2 - 1\n",
    "TWIST = random.random() * 2 - 1\n",
    "\n",
    "print \"Input:  \",\n",
    "print STR,\n",
    "print FWD,\n",
    "print TWIST\n",
    "\n",
    "# Inverse Kinematics\n",
    "A = STR - TWIST * ((L / 2.0));\n",
    "B = STR + TWIST * ((L / 2.0));\n",
    "C = FWD - TWIST * ((W / 2.0));\n",
    "D = FWD + TWIST * ((W / 2.0));\n",
    "\n",
    "print \"a: \", A, \"b: \", B, \"c: \", C, \"d:\", D\n",
    "\n",
    "wheelSpeedFL = math.sqrt(pow(B, 2) + pow(D, 2));\n",
    "wheelSpeedFR = math.sqrt(pow(B, 2) + pow(C, 2));\n",
    "wheelSpeedBL = math.sqrt(pow(A, 2) + pow(D, 2));\n",
    "wheelSpeedBR = math.sqrt(pow(A, 2) + pow(C, 2));\n",
    "\n",
    "\n",
    "wheelAngleFL = math.atan2(B, D) #* 180 / math.pi;\n",
    "wheelAngleFR = math.atan2(B, C) #* 180 / math.pi;\n",
    "wheelAngleBL = math.atan2(A, D) #* 180 / math.pi;\n",
    "wheelAngleBR = math.atan2(A, C) #* 180 / math.pi;\n",
    "\n",
    "# Forward Kinematics\n",
    "FL_B = math.sin(wheelAngleFL) * wheelSpeedFL\n",
    "FL_D = math.cos(wheelAngleFL) * wheelSpeedFL\n",
    "\n",
    "FR_B = math.sin(wheelAngleFR) * wheelSpeedFR\n",
    "FR_C = math.cos(wheelAngleFR) * wheelSpeedFR\n",
    "\n",
    "BL_A = math.sin(wheelAngleBL) * wheelSpeedBL\n",
    "BL_D = math.cos(wheelAngleBL) * wheelSpeedBL\n",
    "\n",
    "BR_A = math.sin(wheelAngleBR) * wheelSpeedBR\n",
    "BR_C = math.cos(wheelAngleBR) * wheelSpeedBR\n",
    "\n",
    "A = (BL_A + BR_A) / 2.0\n",
    "B = (FR_B + FL_B) / 2.0\n",
    "C = (FR_C + BR_C) / 2.0\n",
    "D = (FL_D + BL_D) / 2.0\n",
    "\n",
    "print \"a: \", A, \"b: \", B, \"c: \", C, \"d:\", D\n",
    "\n",
    "omega1 = (B - A) / L\n",
    "omega2 = (D - C) / W\n",
    "omega = (omega1 + omega2) / 2.0\n",
    "\n",
    "vX = A + omega * (L / 2.0)\n",
    "vY = C + omega * (W / 2.0)\n",
    "\n",
    "print \"Output: \",\n",
    "print vX,\n",
    "print vY,\n",
    "print omega"
   ]
  },
  {
   "cell_type": "markdown",
   "metadata": {},
   "source": [
    "## Old\n",
    "\n",
    "This is the original copy from last year."
   ]
  },
  {
   "cell_type": "code",
   "execution_count": 65,
   "metadata": {
    "collapsed": false
   },
   "outputs": [
    {
     "name": "stdout",
     "output_type": "stream",
     "text": [
      "Input:   0.689839411376 -0.88966019536 0.00512738589658\n",
      "0.664202481893 0.715476340859 -0.928115589584 -0.851204801136\n",
      "0.664202481893 0.715476340859 -0.928115589584 -0.851204801136\n",
      "Output:  0.689839411376 -0.88966019536 0.00512738589658\n"
     ]
    }
   ],
   "source": [
    "# Last years original version.\n",
    "\n",
    "import math\n",
    "import random\n",
    "L = 10\n",
    "W = 15\n",
    "ORIGIN_X = 0\n",
    "ORIGIN_Y = 0\n",
    "\n",
    "FWD = random.random() * 2 - 1\n",
    "STR = random.random() * 2 - 1\n",
    "TWIST = random.random() * 2 - 1\n",
    "\n",
    "print \"Input:  \",\n",
    "print STR,\n",
    "print FWD,\n",
    "print TWIST\n",
    "\n",
    "# Inverse Kinematics\n",
    "A = STR - TWIST * ((L / 2.0));\n",
    "B = STR + TWIST * ((L / 2.0));\n",
    "C = FWD - TWIST * ((W / 2.0));\n",
    "D = FWD + TWIST * ((W / 2.0));\n",
    "\n",
    "print A, B, C, D\n",
    "\n",
    "wheelSpeedFL = math.sqrt(pow(B, 2) + pow(C, 2));\n",
    "wheelSpeedFR = math.sqrt(pow(B, 2) + pow(D, 2));\n",
    "wheelSpeedBR = math.sqrt(pow(A, 2) + pow(D, 2));\n",
    "wheelSpeedBL = math.sqrt(pow(A, 2) + pow(C, 2));\n",
    "\n",
    "wheelAngleFL = math.atan2(B, C) #* 180 / math.pi;\n",
    "wheelAngleFR = math.atan2(B, D) #* 180 / math.pi;\n",
    "wheelAngleBL = math.atan2(A, C) #* 180 / math.pi;\n",
    "wheelAngleBR = math.atan2(A, D) #* 180 / math.pi;\n",
    "\n",
    "# Forward Kinematics\n",
    "FR_B = math.sin(wheelAngleFR) * wheelSpeedFR\n",
    "FR_D = math.cos(wheelAngleFR) * wheelSpeedFR\n",
    "\n",
    "FL_B = math.sin(wheelAngleFL) * wheelSpeedFL\n",
    "FL_C = math.cos(wheelAngleFL) * wheelSpeedFL\n",
    "\n",
    "BL_A = math.sin(wheelAngleBL) * wheelSpeedBL\n",
    "BL_C = math.cos(wheelAngleBL) * wheelSpeedBL\n",
    "\n",
    "BR_A = math.sin(wheelAngleBR) * wheelSpeedBR\n",
    "BR_D = math.cos(wheelAngleBR) * wheelSpeedBR\n",
    "\n",
    "A = (BL_A + BR_A) / 2.0\n",
    "B = (FR_B + FL_B) / 2.0\n",
    "C = (FL_C + BL_C) / 2.0\n",
    "D = (FR_D + BR_D) / 2.0\n",
    "\n",
    "print A, B, C, D\n",
    "\n",
    "omega1 = (B - A) / L\n",
    "omega2 = (D - C) / W\n",
    "omega = (omega1 + omega2) / 2.0\n",
    "\n",
    "vX = A + omega * (L / 2.0)\n",
    "vY = C + omega * (W / 2.0)\n",
    "\n",
    "print \"Output: \",\n",
    "print vX,\n",
    "print vY,\n",
    "print omega"
   ]
  },
  {
   "cell_type": "code",
   "execution_count": null,
   "metadata": {
    "collapsed": true
   },
   "outputs": [],
   "source": []
  }
 ],
 "metadata": {
  "kernelspec": {
   "display_name": "Python 2",
   "language": "python",
   "name": "python2"
  },
  "language_info": {
   "codemirror_mode": {
    "name": "ipython",
    "version": 2
   },
   "file_extension": ".py",
   "mimetype": "text/x-python",
   "name": "python",
   "nbconvert_exporter": "python",
   "pygments_lexer": "ipython2",
   "version": "2.7.10"
  }
 },
 "nbformat": 4,
 "nbformat_minor": 2
}
